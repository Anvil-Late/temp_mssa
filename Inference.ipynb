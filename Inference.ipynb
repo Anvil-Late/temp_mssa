{
 "cells": [
  {
   "cell_type": "code",
   "execution_count": 1,
   "id": "9eda2e1a",
   "metadata": {},
   "outputs": [
    {
     "name": "stderr",
     "output_type": "stream",
     "text": [
      "/Users/anvil/miniconda3/envs/deeplearning/lib/python3.10/site-packages/tqdm/auto.py:21: TqdmWarning: IProgress not found. Please update jupyter and ipywidgets. See https://ipywidgets.readthedocs.io/en/stable/user_install.html\n",
      "  from .autonotebook import tqdm as notebook_tqdm\n"
     ]
    }
   ],
   "source": [
    "import pandas as pd\n",
    "import numpy as np\n",
    "import seaborn as sns\n",
    "import matplotlib.pyplot as plt\n",
    "import transformers\n",
    "import torch\n",
    "from datasets import Dataset\n",
    "from transformers import Trainer, TrainingArguments, EarlyStoppingCallback\n",
    "import evaluate\n",
    "from transformers import BertTokenizer, BertModel, AdamW, get_linear_schedule_with_warmup, AutoModelForSequenceClassification, AutoTokenizer\n",
    "from sklearn.metrics import confusion_matrix, classification_report\n",
    "from datetime import datetime\n",
    "import os\n",
    "import json"
   ]
  },
  {
   "cell_type": "code",
   "execution_count": 2,
   "id": "b96d5964",
   "metadata": {},
   "outputs": [
    {
     "name": "stdout",
     "output_type": "stream",
     "text": [
      "Using device: mps\n"
     ]
    }
   ],
   "source": [
    "# Define path to label mapping\n",
    "label_mapping_path = './label_mapping_binary.json'\n",
    "\n",
    "# Check if GPU is available\n",
    "if (torch.backends.mps.is_available()) and (torch.backends.mps.is_built()): # type: ignore (pylance confused about torch.backends.mps)\n",
    "    device = torch.device(\"mps\")\n",
    "elif torch.cuda.is_available():\n",
    "    device = torch.device(\"cuda\")\n",
    "else:\n",
    "    device = torch.device(\"cpu\")\n",
    "\n",
    "#device = torch.device(\"cpu\")\n",
    "print(f'Using device: {device}')\n",
    "\n",
    "# Load X, y training and validation data\n",
    "data_dir = 'data_binary'\n",
    "X_test = pd.read_csv(f'./{data_dir}/test.csv')\n",
    "y_test = pd.read_csv(f'./{data_dir}/test_labels.csv')"
   ]
  },
  {
   "cell_type": "code",
   "execution_count": 3,
   "id": "b37ecbc5",
   "metadata": {},
   "outputs": [],
   "source": [
    "model_path = '/Users/anvil/Documents/python/github/colasreqs/checkpoints/2023-10-04_15-59-AND_lr=1e-06/model'"
   ]
  },
  {
   "cell_type": "code",
   "execution_count": 4,
   "id": "53dbb081",
   "metadata": {},
   "outputs": [
    {
     "name": "stdout",
     "output_type": "stream",
     "text": [
      "Number of labels: 2\n"
     ]
    }
   ],
   "source": [
    "with open(label_mapping_path, 'r') as f:\n",
    "    label_mapping = json.load(f)\n",
    "num_labels = len(label_mapping.values())\n",
    "print(f'Number of labels: {num_labels}')"
   ]
  },
  {
   "cell_type": "code",
   "execution_count": 5,
   "id": "6604ed78",
   "metadata": {},
   "outputs": [],
   "source": [
    "tokenizer = AutoTokenizer.from_pretrained('facebook/bart-large', do_lower_case=True)"
   ]
  },
  {
   "cell_type": "code",
   "execution_count": 12,
   "id": "50e8c183",
   "metadata": {},
   "outputs": [
    {
     "name": "stderr",
     "output_type": "stream",
     "text": [
      "You passed along `num_labels=3` with an incompatible id to label map: {'0': 'LABEL_0', '1': 'LABEL_1'}. The number of labels wil be overwritten to 2.\n"
     ]
    },
    {
     "data": {
      "text/plain": [
       "BartForSequenceClassification(\n",
       "  (model): BartModel(\n",
       "    (shared): Embedding(50265, 1024, padding_idx=1)\n",
       "    (encoder): BartEncoder(\n",
       "      (embed_tokens): Embedding(50265, 1024, padding_idx=1)\n",
       "      (embed_positions): BartLearnedPositionalEmbedding(1026, 1024)\n",
       "      (layers): ModuleList(\n",
       "        (0-11): 12 x BartEncoderLayer(\n",
       "          (self_attn): BartAttention(\n",
       "            (k_proj): Linear(in_features=1024, out_features=1024, bias=True)\n",
       "            (v_proj): Linear(in_features=1024, out_features=1024, bias=True)\n",
       "            (q_proj): Linear(in_features=1024, out_features=1024, bias=True)\n",
       "            (out_proj): Linear(in_features=1024, out_features=1024, bias=True)\n",
       "          )\n",
       "          (self_attn_layer_norm): LayerNorm((1024,), eps=1e-05, elementwise_affine=True)\n",
       "          (activation_fn): GELUActivation()\n",
       "          (fc1): Linear(in_features=1024, out_features=4096, bias=True)\n",
       "          (fc2): Linear(in_features=4096, out_features=1024, bias=True)\n",
       "          (final_layer_norm): LayerNorm((1024,), eps=1e-05, elementwise_affine=True)\n",
       "        )\n",
       "      )\n",
       "      (layernorm_embedding): LayerNorm((1024,), eps=1e-05, elementwise_affine=True)\n",
       "    )\n",
       "    (decoder): BartDecoder(\n",
       "      (embed_tokens): Embedding(50265, 1024, padding_idx=1)\n",
       "      (embed_positions): BartLearnedPositionalEmbedding(1026, 1024)\n",
       "      (layers): ModuleList(\n",
       "        (0-11): 12 x BartDecoderLayer(\n",
       "          (self_attn): BartAttention(\n",
       "            (k_proj): Linear(in_features=1024, out_features=1024, bias=True)\n",
       "            (v_proj): Linear(in_features=1024, out_features=1024, bias=True)\n",
       "            (q_proj): Linear(in_features=1024, out_features=1024, bias=True)\n",
       "            (out_proj): Linear(in_features=1024, out_features=1024, bias=True)\n",
       "          )\n",
       "          (activation_fn): GELUActivation()\n",
       "          (self_attn_layer_norm): LayerNorm((1024,), eps=1e-05, elementwise_affine=True)\n",
       "          (encoder_attn): BartAttention(\n",
       "            (k_proj): Linear(in_features=1024, out_features=1024, bias=True)\n",
       "            (v_proj): Linear(in_features=1024, out_features=1024, bias=True)\n",
       "            (q_proj): Linear(in_features=1024, out_features=1024, bias=True)\n",
       "            (out_proj): Linear(in_features=1024, out_features=1024, bias=True)\n",
       "          )\n",
       "          (encoder_attn_layer_norm): LayerNorm((1024,), eps=1e-05, elementwise_affine=True)\n",
       "          (fc1): Linear(in_features=1024, out_features=4096, bias=True)\n",
       "          (fc2): Linear(in_features=4096, out_features=1024, bias=True)\n",
       "          (final_layer_norm): LayerNorm((1024,), eps=1e-05, elementwise_affine=True)\n",
       "        )\n",
       "      )\n",
       "      (layernorm_embedding): LayerNorm((1024,), eps=1e-05, elementwise_affine=True)\n",
       "    )\n",
       "  )\n",
       "  (classification_head): BartClassificationHead(\n",
       "    (dense): Linear(in_features=1024, out_features=1024, bias=True)\n",
       "    (dropout): Dropout(p=0.0, inplace=False)\n",
       "    (out_proj): Linear(in_features=1024, out_features=2, bias=True)\n",
       "  )\n",
       ")"
      ]
     },
     "execution_count": 12,
     "metadata": {},
     "output_type": "execute_result"
    }
   ],
   "source": [
    "model = AutoModelForSequenceClassification.from_pretrained(model_path, num_labels=num_labels)\n",
    "model.to(device)"
   ]
  },
  {
   "cell_type": "code",
   "execution_count": 27,
   "id": "fdae9ba3",
   "metadata": {},
   "outputs": [],
   "source": [
    "test_dataset = Dataset.from_pandas(X_test)\n",
    "\n",
    "# Encode text\n",
    "test_encodings = tokenizer(test_dataset['text'], truncation=True, padding=True, max_length=512)\n",
    "\n",
    "# Create conversion class\n",
    "\n",
    "class BertProcessedDataset(torch.utils.data.Dataset):\n",
    "    def __init__(self, encodings, labels):\n",
    "        self.encodings = encodings\n",
    "        self.labels = labels\n",
    "\n",
    "    def __getitem__(self, idx):\n",
    "        item = {key: torch.tensor(val[idx]).to(device) for key, val in self.encodings.items()}\n",
    "        item['labels'] = torch.tensor(self.labels[idx]).to(device)\n",
    "        return item\n",
    "\n",
    "    def __len__(self):\n",
    "        return len(self.labels)\n",
    "\n",
    "# Convert encodings to PyTorch tensors\n",
    "test_dataset = BertProcessedDataset(test_encodings, y_test['label'].tolist())\n",
    "\n"
   ]
  },
  {
   "cell_type": "code",
   "execution_count": 35,
   "id": "c741e856",
   "metadata": {},
   "outputs": [],
   "source": [
    "training_args = TrainingArguments(\n",
    "    output_dir=f'./',\n",
    "    per_device_eval_batch_size=8,\n",
    "    use_mps_device=True,\n",
    "    eval_accumulation_steps=50,\n",
    ")\n",
    "trainer = Trainer(\n",
    "        model=model,\n",
    "        args=training_args,\n",
    ")"
   ]
  },
  {
   "cell_type": "code",
   "execution_count": 36,
   "id": "2f407f42",
   "metadata": {},
   "outputs": [
    {
     "data": {
      "text/plain": [
       "(3112, 1)"
      ]
     },
     "execution_count": 36,
     "metadata": {},
     "output_type": "execute_result"
    }
   ],
   "source": [
    "X_test.shape"
   ]
  },
  {
   "cell_type": "code",
   "execution_count": 37,
   "id": "e8bae675",
   "metadata": {},
   "outputs": [
    {
     "data": {
      "text/html": [],
      "text/plain": [
       "<IPython.core.display.HTML object>"
      ]
     },
     "metadata": {},
     "output_type": "display_data"
    }
   ],
   "source": [
    "y_pred = trainer.predict(test_dataset)"
   ]
  },
  {
   "cell_type": "code",
   "execution_count": 38,
   "id": "8b81dddd",
   "metadata": {},
   "outputs": [],
   "source": [
    "predictions, label_ids, metrics = y_pred"
   ]
  },
  {
   "cell_type": "code",
   "execution_count": 47,
   "id": "2782e719",
   "metadata": {},
   "outputs": [],
   "source": [
    "pred_frame = pd.DataFrame()"
   ]
  },
  {
   "cell_type": "code",
   "execution_count": 48,
   "id": "6599cd3c",
   "metadata": {},
   "outputs": [],
   "source": [
    "pred_frame['text'] = X_test['text']\n",
    "pred_frame['y_true'] = y_test\n",
    "pred_frame['y_pred'] = label_ids"
   ]
  },
  {
   "cell_type": "code",
   "execution_count": 52,
   "id": "61a5c83b",
   "metadata": {},
   "outputs": [],
   "source": [
    "from sklearn.metrics import accuracy_score, precision_score, recall_score, confusion_matrix"
   ]
  },
  {
   "cell_type": "code",
   "execution_count": 51,
   "id": "f43d1e60",
   "metadata": {},
   "outputs": [
    {
     "data": {
      "text/plain": [
       "1.0"
      ]
     },
     "execution_count": 51,
     "metadata": {},
     "output_type": "execute_result"
    }
   ],
   "source": [
    "accuracy_score(pred_frame['y_true'], pred_frame['y_pred'])"
   ]
  },
  {
   "cell_type": "code",
   "execution_count": 53,
   "id": "17462d7c",
   "metadata": {},
   "outputs": [
    {
     "data": {
      "text/plain": [
       "1.0"
      ]
     },
     "execution_count": 53,
     "metadata": {},
     "output_type": "execute_result"
    }
   ],
   "source": [
    "precision_score(pred_frame['y_true'], pred_frame['y_pred'])"
   ]
  },
  {
   "cell_type": "code",
   "execution_count": 54,
   "id": "35a2bc1c",
   "metadata": {},
   "outputs": [
    {
     "data": {
      "text/plain": [
       "1.0"
      ]
     },
     "execution_count": 54,
     "metadata": {},
     "output_type": "execute_result"
    }
   ],
   "source": [
    "recall_score(pred_frame['y_true'], pred_frame['y_pred'])"
   ]
  },
  {
   "cell_type": "code",
   "execution_count": 55,
   "id": "2df29d04",
   "metadata": {},
   "outputs": [
    {
     "data": {
      "text/plain": [
       "array([[2285,    0],\n",
       "       [   0,  827]])"
      ]
     },
     "execution_count": 55,
     "metadata": {},
     "output_type": "execute_result"
    }
   ],
   "source": [
    "confusion_matrix(pred_frame['y_true'], pred_frame['y_pred'])"
   ]
  },
  {
   "cell_type": "code",
   "execution_count": 60,
   "id": "23ced7ff",
   "metadata": {},
   "outputs": [
    {
     "data": {
      "text/plain": [
       "{0: 'Other', 1: 'Heading'}"
      ]
     },
     "execution_count": 60,
     "metadata": {},
     "output_type": "execute_result"
    }
   ],
   "source": [
    "id_to_label = {v: i for i,v in label_mapping.items()}\n",
    "id_to_label"
   ]
  },
  {
   "cell_type": "code",
   "execution_count": 71,
   "id": "c3102faa",
   "metadata": {},
   "outputs": [],
   "source": [
    "pred_frame_decoded = pred_frame.copy()\n",
    "pred_frame_decoded['y_true'] = pred_frame_decoded['y_true'].map(id_to_label)\n",
    "pred_frame_decoded['y_pred'] = pred_frame_decoded['y_pred'].map(id_to_label)"
   ]
  },
  {
   "cell_type": "code",
   "execution_count": 76,
   "id": "11695e50",
   "metadata": {},
   "outputs": [],
   "source": [
    "pred_frame_decoded['Prediction is mistaken (1 if prediction is mistaken, 0 if prediction is right)'] = (\n",
    "    pred_frame_decoded['y_true'] != pred_frame_decoded['y_pred']\n",
    ").astype(int)"
   ]
  },
  {
   "cell_type": "code",
   "execution_count": 77,
   "id": "d9acc0af",
   "metadata": {},
   "outputs": [
    {
     "data": {
      "text/html": [
       "<div>\n",
       "<style scoped>\n",
       "    .dataframe tbody tr th:only-of-type {\n",
       "        vertical-align: middle;\n",
       "    }\n",
       "\n",
       "    .dataframe tbody tr th {\n",
       "        vertical-align: top;\n",
       "    }\n",
       "\n",
       "    .dataframe thead th {\n",
       "        text-align: right;\n",
       "    }\n",
       "</style>\n",
       "<table border=\"1\" class=\"dataframe\">\n",
       "  <thead>\n",
       "    <tr style=\"text-align: right;\">\n",
       "      <th></th>\n",
       "      <th>text</th>\n",
       "      <th>y_true</th>\n",
       "      <th>y_pred</th>\n",
       "      <th>Prediction is mistaken (1 if prediction is mistaken, 0 if prediction is right)</th>\n",
       "    </tr>\n",
       "  </thead>\n",
       "  <tbody>\n",
       "    <tr>\n",
       "      <th>0</th>\n",
       "      <td>(f)          dc switch gear for the regenerati...</td>\n",
       "      <td>Other</td>\n",
       "      <td>Other</td>\n",
       "      <td>0</td>\n",
       "    </tr>\n",
       "    <tr>\n",
       "      <th>1</th>\n",
       "      <td>(4)          the contractor shall be responsib...</td>\n",
       "      <td>Other</td>\n",
       "      <td>Other</td>\n",
       "      <td>0</td>\n",
       "    </tr>\n",
       "    <tr>\n",
       "      <th>2</th>\n",
       "      <td>as for specifically designed for lighting cont...</td>\n",
       "      <td>Other</td>\n",
       "      <td>Other</td>\n",
       "      <td>0</td>\n",
       "    </tr>\n",
       "    <tr>\n",
       "      <th>3</th>\n",
       "      <td>►          motor operated lbd units\\ndc tracti...</td>\n",
       "      <td>Other</td>\n",
       "      <td>Other</td>\n",
       "      <td>0</td>\n",
       "    </tr>\n",
       "    <tr>\n",
       "      <th>4</th>\n",
       "      <td>preventive measures shall be taken to avoid th...</td>\n",
       "      <td>Other</td>\n",
       "      <td>Other</td>\n",
       "      <td>0</td>\n",
       "    </tr>\n",
       "    <tr>\n",
       "      <th>...</th>\n",
       "      <td>...</td>\n",
       "      <td>...</td>\n",
       "      <td>...</td>\n",
       "      <td>...</td>\n",
       "    </tr>\n",
       "    <tr>\n",
       "      <th>3107</th>\n",
       "      <td>(a)          the boarding step made of aluminu...</td>\n",
       "      <td>Other</td>\n",
       "      <td>Other</td>\n",
       "      <td>0</td>\n",
       "    </tr>\n",
       "    <tr>\n",
       "      <th>3108</th>\n",
       "      <td>(7)          emergency mode\\n(a)          in e...</td>\n",
       "      <td>Other</td>\n",
       "      <td>Other</td>\n",
       "      <td>0</td>\n",
       "    </tr>\n",
       "    <tr>\n",
       "      <th>3109</th>\n",
       "      <td>(1)          the contractor shall conduct firs...</td>\n",
       "      <td>Other</td>\n",
       "      <td>Other</td>\n",
       "      <td>0</td>\n",
       "    </tr>\n",
       "    <tr>\n",
       "      <th>3110</th>\n",
       "      <td>ato shall control the opening and closing of p...</td>\n",
       "      <td>Other</td>\n",
       "      <td>Other</td>\n",
       "      <td>0</td>\n",
       "    </tr>\n",
       "    <tr>\n",
       "      <th>3111</th>\n",
       "      <td>(a)          the bogie frame stand set shall b...</td>\n",
       "      <td>Other</td>\n",
       "      <td>Other</td>\n",
       "      <td>0</td>\n",
       "    </tr>\n",
       "  </tbody>\n",
       "</table>\n",
       "<p>3112 rows × 4 columns</p>\n",
       "</div>"
      ],
      "text/plain": [
       "                                                   text y_true y_pred   \n",
       "0     (f)          dc switch gear for the regenerati...  Other  Other  \\\n",
       "1     (4)          the contractor shall be responsib...  Other  Other   \n",
       "2     as for specifically designed for lighting cont...  Other  Other   \n",
       "3     ►          motor operated lbd units\\ndc tracti...  Other  Other   \n",
       "4     preventive measures shall be taken to avoid th...  Other  Other   \n",
       "...                                                 ...    ...    ...   \n",
       "3107  (a)          the boarding step made of aluminu...  Other  Other   \n",
       "3108  (7)          emergency mode\\n(a)          in e...  Other  Other   \n",
       "3109  (1)          the contractor shall conduct firs...  Other  Other   \n",
       "3110  ato shall control the opening and closing of p...  Other  Other   \n",
       "3111  (a)          the bogie frame stand set shall b...  Other  Other   \n",
       "\n",
       "      Prediction is mistaken (1 if prediction is mistaken, 0 if prediction is right)  \n",
       "0                                                     0                               \n",
       "1                                                     0                               \n",
       "2                                                     0                               \n",
       "3                                                     0                               \n",
       "4                                                     0                               \n",
       "...                                                 ...                               \n",
       "3107                                                  0                               \n",
       "3108                                                  0                               \n",
       "3109                                                  0                               \n",
       "3110                                                  0                               \n",
       "3111                                                  0                               \n",
       "\n",
       "[3112 rows x 4 columns]"
      ]
     },
     "execution_count": 77,
     "metadata": {},
     "output_type": "execute_result"
    }
   ],
   "source": [
    "pred_frame_decoded"
   ]
  },
  {
   "cell_type": "code",
   "execution_count": 78,
   "id": "afd16d30",
   "metadata": {},
   "outputs": [],
   "source": [
    "pred_frame_decoded.to_excel('./binary_model_predictions.xlsx', index=False)"
   ]
  },
  {
   "cell_type": "code",
   "execution_count": 79,
   "id": "d7e31ba0",
   "metadata": {},
   "outputs": [],
   "source": [
    "X_train = pd.read_csv(f'./{data_dir}/train.csv')\n",
    "X_val = pd.read_csv(f'./{data_dir}/val.csv')"
   ]
  },
  {
   "cell_type": "code",
   "execution_count": 80,
   "id": "52fcdfa1",
   "metadata": {},
   "outputs": [
    {
     "data": {
      "text/plain": [
       "(9956, 1)"
      ]
     },
     "execution_count": 80,
     "metadata": {},
     "output_type": "execute_result"
    }
   ],
   "source": [
    "X_train.shape"
   ]
  },
  {
   "cell_type": "code",
   "execution_count": 81,
   "id": "c587b02b",
   "metadata": {},
   "outputs": [
    {
     "data": {
      "text/plain": [
       "(2490, 1)"
      ]
     },
     "execution_count": 81,
     "metadata": {},
     "output_type": "execute_result"
    }
   ],
   "source": [
    "X_val.shape"
   ]
  },
  {
   "cell_type": "code",
   "execution_count": null,
   "id": "3fe016d0",
   "metadata": {},
   "outputs": [],
   "source": []
  }
 ],
 "metadata": {
  "kernelspec": {
   "display_name": "Python [conda env:deeplearning] *",
   "language": "python",
   "name": "conda-env-deeplearning-py"
  },
  "language_info": {
   "codemirror_mode": {
    "name": "ipython",
    "version": 3
   },
   "file_extension": ".py",
   "mimetype": "text/x-python",
   "name": "python",
   "nbconvert_exporter": "python",
   "pygments_lexer": "ipython3",
   "version": "3.10.10"
  }
 },
 "nbformat": 4,
 "nbformat_minor": 5
}
